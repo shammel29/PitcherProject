{
 "cells": [
  {
   "cell_type": "code",
   "execution_count": null,
   "id": "c3f5e45a-38f2-47b2-b23b-16688686ac43",
   "metadata": {},
   "outputs": [],
   "source": [
    "import numpy as np\n",
    "import pandas as pd\n",
    "from sklearn.preprocessing import LabelEncoder\n",
    "from sklearn.model_selection import train_test_split\n",
    "from sklearn.metrics import classification_report\n",
    "import tensorflow as tf\n",
    "from tensorflow.keras.models import Sequential\n",
    "from tensorflow.keras.layers import Masking, LSTM, Dense\n",
    "import matplotlib.pyplot as plt"
   ]
  },
  {
   "cell_type": "code",
   "execution_count": 2,
   "id": "88fe636f-8ac1-4351-8ed6-1262d9ef05b5",
   "metadata": {},
   "outputs": [
    {
     "name": "stdout",
     "output_type": "stream",
     "text": [
      "Expanded label counts:\n",
      " Keyframe_Type\n",
      "MaxKneeLift              135\n",
      "LiftOff                   90\n",
      "DragStart                 84\n",
      "CirclePeak                84\n",
      "FootPlant                 84\n",
      "Connection                84\n",
      "Release                   84\n",
      "ThreeQuarterArmCircle     78\n",
      "Name: count, dtype: int64\n"
     ]
    }
   ],
   "source": [
    "df_labels = pd.read_csv('keyframe_features_dataset.csv')\n",
    "window_map = {'MaxKneeLift': 2}\n",
    "expanded_rows = []\n",
    "for _, row in df_labels.iterrows():\n",
    "    w = window_map.get(row['Keyframe_Type'], 1)\n",
    "    for off in range(-w, w+1):\n",
    "        fn = row['Frame'] + off\n",
    "        if fn >= 0:\n",
    "            expanded_rows.append({\n",
    "                'Video': row['Video'],\n",
    "                'Frame': fn,\n",
    "                'Keyframe_Type': row['Keyframe_Type']\n",
    "            })\n",
    "df_labels_expanded = pd.DataFrame(expanded_rows)\n",
    "print(\"Expanded label counts:\\n\", df_labels_expanded['Keyframe_Type'].value_counts())\n"
   ]
  },
  {
   "cell_type": "code",
   "execution_count": null,
   "id": "434e8af3-fdc2-48bc-b01c-f6370c2ae6bb",
   "metadata": {},
   "outputs": [],
   "source": [
    "df_feat = pd.read_csv('keyframe_features_dataset.csv')\n",
    "# Build lookup\n",
    "feat_dict = {\n",
    "    (r['Video'], r['Frame']): r[['Elbow_Angle','Trunk_Lean_Angle','Stride_Length',\n",
    "           'Humerus_Straightness','UpperArm_Compression','Hand_Center_Offset']].values\n",
    "    for _, r in df_feat.iterrows()\n",
    "}\n",
    "\n",
    "W = 2\n",
    "X_seqs, y_labels = [], []\n",
    "for _, row in df_labels_expanded.iterrows():\n",
    "    seq = []\n",
    "    ok = True\n",
    "    for off in range(-W, W+1):\n",
    "        key = (row['Video'], row['Frame'] + off)\n",
    "        feat = feat_dict.get(key)\n",
    "        if feat is None:\n",
    "            ok = False\n",
    "            break\n",
    "        seq.append(feat)\n",
    "    if not ok:\n",
    "        continue\n",
    "    X_seqs.append(seq)\n",
    "    y_labels.append(row['Keyframe_Type'])\n",
    "X_seqs = np.array(X_seqs)\n",
    "y_labels = np.array(y_labels)\n",
    "print(\"Sequence data shape:\", X_seqs.shape)\n"
   ]
  },
  {
   "cell_type": "code",
   "execution_count": null,
   "id": "9224d353-9d97-4504-8ceb-1a6663ba03c6",
   "metadata": {},
   "outputs": [],
   "source": [
    "le = LabelEncoder()\n",
    "y_enc = le.fit_transform(y_labels)\n",
    "print(\"Classes:\", le.classes_)\n",
    "\n",
    "X_train, X_test, y_train, y_test = train_test_split(\n",
    "    X_seqs, y_enc, test_size=0.2, stratify=y_enc, random_state=42\n",
    ")\n",
    "print(\"Train/Test shapes:\", X_train.shape, X_test.shape)\n"
   ]
  },
  {
   "cell_type": "code",
   "execution_count": null,
   "id": "a8bb7afe-ff3d-4898-ad08-5424e43a5a3b",
   "metadata": {},
   "outputs": [],
   "source": [
    "n_features = X_seqs.shape[2]\n",
    "n_classes  = len(le.classes_)\n",
    "\n",
    "model = Sequential([\n",
    "    Masking(mask_value=0.0, input_shape=(2*W+1, n_features)),\n",
    "    LSTM(32),\n",
    "    Dense(n_classes, activation='softmax')\n",
    "])\n",
    "model.compile(\n",
    "    optimizer='adam',\n",
    "    loss='sparse_categorical_crossentropy',\n",
    "    metrics=['accuracy']\n",
    ")\n",
    "\n",
    "history = model.fit(\n",
    "    X_train, y_train,\n",
    "    validation_data=(X_test, y_test),\n",
    "    epochs=20, batch_size=16\n",
    ")\n",
    "\n",
    "plt.plot(history.history['loss'], label='train loss')\n",
    "plt.plot(history.history['val_loss'], label='val loss')\n",
    "plt.legend()\n",
    "plt.show()\n"
   ]
  },
  {
   "cell_type": "code",
   "execution_count": null,
   "id": "66fdd96b-8c11-4c26-a144-1bdb0918a30a",
   "metadata": {},
   "outputs": [],
   "source": [
    "y_pred = model.predict(X_test).argmax(axis=1)\n",
    "print(classification_report(y_test, y_pred, target_names=le.classes_))\n"
   ]
  },
  {
   "cell_type": "code",
   "execution_count": null,
   "id": "da804d1f-e4b6-449f-bd8c-4f058786ad7f",
   "metadata": {},
   "outputs": [],
   "source": []
  }
 ],
 "metadata": {
  "kernelspec": {
   "display_name": "Python 3 (ipykernel)",
   "language": "python",
   "name": "python3"
  },
  "language_info": {
   "codemirror_mode": {
    "name": "ipython",
    "version": 3
   },
   "file_extension": ".py",
   "mimetype": "text/x-python",
   "name": "python",
   "nbconvert_exporter": "python",
   "pygments_lexer": "ipython3",
   "version": "3.11.6"
  }
 },
 "nbformat": 4,
 "nbformat_minor": 5
}
