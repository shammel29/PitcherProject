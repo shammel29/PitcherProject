{
 "cells": [
  {
   "cell_type": "code",
   "execution_count": 1,
   "id": "2359fa2c-dd47-4fd3-abd9-e80d4847bea8",
   "metadata": {},
   "outputs": [],
   "source": [
    "name = \"Sophia\"\n",
    "subscribers = 7000"
   ]
  },
  {
   "cell_type": "code",
   "execution_count": 2,
   "id": "dcee74eb-a736-4c11-b86b-945a7f4e8791",
   "metadata": {},
   "outputs": [
    {
     "name": "stdout",
     "output_type": "stream",
     "text": [
      "Sophiahas7000Youtube Subscribers Now.\n"
     ]
    }
   ],
   "source": [
    "print(name + ' has ' + str(subscribers) + ' Youtube Subscribers Now.')"
   ]
  },
  {
   "cell_type": "code",
   "execution_count": null,
   "id": "58cb9856-86d6-43d2-b708-38693ba96197",
   "metadata": {},
   "outputs": [],
   "source": []
  }
 ],
 "metadata": {
  "kernelspec": {
   "display_name": "Python 3 (ipykernel)",
   "language": "python",
   "name": "python3"
  },
  "language_info": {
   "codemirror_mode": {
    "name": "ipython",
    "version": 3
   },
   "file_extension": ".py",
   "mimetype": "text/x-python",
   "name": "python",
   "nbconvert_exporter": "python",
   "pygments_lexer": "ipython3",
   "version": "3.11.6"
  }
 },
 "nbformat": 4,
 "nbformat_minor": 5
}
